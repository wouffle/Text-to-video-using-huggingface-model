{
  "nbformat": 4,
  "nbformat_minor": 0,
  "metadata": {
    "colab": {
      "provenance": [],
      "authorship_tag": "ABX9TyMe/FjNblGKzs6+nlDpTxeI",
      "include_colab_link": true
    },
    "kernelspec": {
      "name": "python3",
      "display_name": "Python 3"
    },
    "language_info": {
      "name": "python"
    }
  },
  "cells": [
    {
      "cell_type": "markdown",
      "metadata": {
        "id": "view-in-github",
        "colab_type": "text"
      },
      "source": [
        "<a href=\"https://colab.research.google.com/github/wouffle/Text-to-video-using-huggingface-model/blob/main/Text_to_video.ipynb\" target=\"_parent\"><img src=\"https://colab.research.google.com/assets/colab-badge.svg\" alt=\"Open In Colab\"/></a>"
      ]
    },
    {
      "cell_type": "code",
      "source": [
        "! pip install gTTs"
      ],
      "metadata": {
        "colab": {
          "base_uri": "https://localhost:8080/"
        },
        "id": "D30mty-IJWUW",
        "outputId": "ecea8e4f-0861-4c4b-9f21-a442773f3fce"
      },
      "execution_count": 5,
      "outputs": [
        {
          "output_type": "stream",
          "name": "stdout",
          "text": [
            "Collecting gTTs\n",
            "  Downloading gTTS-2.5.1-py3-none-any.whl (29 kB)\n",
            "Requirement already satisfied: requests<3,>=2.27 in /usr/local/lib/python3.10/dist-packages (from gTTs) (2.31.0)\n",
            "Requirement already satisfied: click<8.2,>=7.1 in /usr/local/lib/python3.10/dist-packages (from gTTs) (8.1.7)\n",
            "Requirement already satisfied: charset-normalizer<4,>=2 in /usr/local/lib/python3.10/dist-packages (from requests<3,>=2.27->gTTs) (3.3.2)\n",
            "Requirement already satisfied: idna<4,>=2.5 in /usr/local/lib/python3.10/dist-packages (from requests<3,>=2.27->gTTs) (3.7)\n",
            "Requirement already satisfied: urllib3<3,>=1.21.1 in /usr/local/lib/python3.10/dist-packages (from requests<3,>=2.27->gTTs) (2.0.7)\n",
            "Requirement already satisfied: certifi>=2017.4.17 in /usr/local/lib/python3.10/dist-packages (from requests<3,>=2.27->gTTs) (2024.6.2)\n",
            "Installing collected packages: gTTs\n",
            "Successfully installed gTTs-2.5.1\n"
          ]
        }
      ]
    },
    {
      "cell_type": "code",
      "source": [
        "from gtts import gTTS\n",
        "from IPython.display import Audio, display\n",
        "from google.colab import files\n",
        "\n",
        "# Function to generate machine voice from text\n",
        "def generate_machine_voice(text, output_file='output.mp3'):\n",
        "    tts = gTTS(text=text, lang='en')  # Generate speech from text in English\n",
        "    tts.save(output_file)  # Save speech to file\n",
        "\n",
        "    # Optionally, display and play the audio (not necessary for download)\n",
        "    display(Audio(output_file, autoplay=True))\n",
        "\n",
        "    # Download the file\n",
        "    files.download(output_file)\n",
        "\n",
        "# Example text\n",
        "text = \"Hello, how are you today?\"\n",
        "\n",
        "# Generate machine voice and download as audio file\n",
        "generate_machine_voice(text)\n"
      ],
      "metadata": {
        "colab": {
          "base_uri": "https://localhost:8080/",
          "height": 76
        },
        "id": "lkSKfvo0Ji5T",
        "outputId": "3c499a6b-5ecd-48f0-c2e1-9ebf583bc580"
      },
      "execution_count": 16,
      "outputs": [
        {
          "output_type": "display_data",
          "data": {
            "text/plain": [
              "<IPython.lib.display.Audio object>"
            ],
            "text/html": [
              "\n",
              "                <audio  controls=\"controls\" autoplay=\"autoplay\">\n",
              "                    <source src=\"data:audio/mpeg;base64,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\" type=\"audio/mpeg\" />\n",
              "                    Your browser does not support the audio element.\n",
              "                </audio>\n",
              "              "
            ]
          },
          "metadata": {}
        },
        {
          "output_type": "display_data",
          "data": {
            "text/plain": [
              "<IPython.core.display.Javascript object>"
            ],
            "application/javascript": [
              "\n",
              "    async function download(id, filename, size) {\n",
              "      if (!google.colab.kernel.accessAllowed) {\n",
              "        return;\n",
              "      }\n",
              "      const div = document.createElement('div');\n",
              "      const label = document.createElement('label');\n",
              "      label.textContent = `Downloading \"${filename}\": `;\n",
              "      div.appendChild(label);\n",
              "      const progress = document.createElement('progress');\n",
              "      progress.max = size;\n",
              "      div.appendChild(progress);\n",
              "      document.body.appendChild(div);\n",
              "\n",
              "      const buffers = [];\n",
              "      let downloaded = 0;\n",
              "\n",
              "      const channel = await google.colab.kernel.comms.open(id);\n",
              "      // Send a message to notify the kernel that we're ready.\n",
              "      channel.send({})\n",
              "\n",
              "      for await (const message of channel.messages) {\n",
              "        // Send a message to notify the kernel that we're ready.\n",
              "        channel.send({})\n",
              "        if (message.buffers) {\n",
              "          for (const buffer of message.buffers) {\n",
              "            buffers.push(buffer);\n",
              "            downloaded += buffer.byteLength;\n",
              "            progress.value = downloaded;\n",
              "          }\n",
              "        }\n",
              "      }\n",
              "      const blob = new Blob(buffers, {type: 'application/binary'});\n",
              "      const a = document.createElement('a');\n",
              "      a.href = window.URL.createObjectURL(blob);\n",
              "      a.download = filename;\n",
              "      div.appendChild(a);\n",
              "      a.click();\n",
              "      div.remove();\n",
              "    }\n",
              "  "
            ]
          },
          "metadata": {}
        },
        {
          "output_type": "display_data",
          "data": {
            "text/plain": [
              "<IPython.core.display.Javascript object>"
            ],
            "application/javascript": [
              "download(\"download_39e3bbe0-b438-4465-a3d3-ba8b25e93be3\", \"output.mp3\", 17280)"
            ]
          },
          "metadata": {}
        }
      ]
    },
    {
      "cell_type": "code",
      "source": [
        "import numpy as np\n",
        "import cv2\n",
        "from moviepy.editor import ImageSequenceClip, AudioFileClip\n",
        "\n",
        "# Function to generate video frames (example)\n",
        "def generate_video_frames(text):\n",
        "    frames = []\n",
        "    for i in range(10):  # Generate 10 frames (replace with your actual logic)\n",
        "        img = np.zeros((480, 640, 3), dtype=np.uint8)  # Example: black frame\n",
        "        cv2.putText(img, text, (50, 50), cv2.FONT_HERSHEY_SIMPLEX, 1, (255, 255, 255), 2)\n",
        "        frames.append(img)\n",
        "    return frames\n",
        "\n",
        "# Function to create video with custom audio\n",
        "def create_video_with_audio(frames, audio_file, output_filename='output_video.mp4'):\n",
        "    # Load audio clip\n",
        "    audio_clip = AudioFileClip(audio_file)\n",
        "\n",
        "    # Create video clip with frames\n",
        "    clip = ImageSequenceClip(frames, fps=24)\n",
        "\n",
        "    # Set audio to the video clip\n",
        "    clip = clip.set_audio(audio_clip)\n",
        "\n",
        "    # Write video file\n",
        "    clip.write_videofile(output_filename, codec='libx264', fps=24)\n",
        "\n",
        "    # Close audio clip (important in Colab)\n",
        "    audio_clip.close()\n",
        "\n",
        "# Example usage\n",
        "text = \"Hello, how are you today?\"\n",
        "\n",
        "# Generate video frames based on text (replace with Hugging Face model output)\n",
        "frames = generate_video_frames(text)\n",
        "\n",
        "# Use your generated audio file from Step 1\n",
        "audio_file = 'output.mp3'\n",
        "\n",
        "# Create video with custom audio and download video file\n",
        "create_video_with_audio(frames, audio_file)\n"
      ],
      "metadata": {
        "colab": {
          "base_uri": "https://localhost:8080/"
        },
        "id": "f0rv0w3hKF9X",
        "outputId": "19108cf5-2ec8-4dc5-ed71-d009b865d98d"
      },
      "execution_count": 15,
      "outputs": [
        {
          "output_type": "stream",
          "name": "stdout",
          "text": [
            "Moviepy - Building video output_video.mp4.\n",
            "MoviePy - Writing audio in output_videoTEMP_MPY_wvf_snd.mp3\n"
          ]
        },
        {
          "output_type": "stream",
          "name": "stderr",
          "text": []
        },
        {
          "output_type": "stream",
          "name": "stdout",
          "text": [
            "MoviePy - Done.\n",
            "Moviepy - Writing video output_video.mp4\n",
            "\n"
          ]
        },
        {
          "output_type": "stream",
          "name": "stderr",
          "text": [
            "                                                   "
          ]
        },
        {
          "output_type": "stream",
          "name": "stdout",
          "text": [
            "Moviepy - Done !\n",
            "Moviepy - video ready output_video.mp4\n"
          ]
        },
        {
          "output_type": "stream",
          "name": "stderr",
          "text": [
            "\r"
          ]
        }
      ]
    },
    {
      "cell_type": "code",
      "source": [],
      "metadata": {
        "id": "GaemPrIeOOOP"
      },
      "execution_count": null,
      "outputs": []
    }
  ]
}